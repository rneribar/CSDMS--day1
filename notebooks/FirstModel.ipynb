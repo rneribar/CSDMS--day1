{
 "cells": [
  {
   "cell_type": "markdown",
   "id": "051e07bb-063f-466e-908b-341e16ead327",
   "metadata": {},
   "source": [
    "# A 1D diffusion model"
   ]
  },
  {
   "cell_type": "markdown",
   "id": "8bb8a302-372b-4ef5-951c-9360f6318e6e",
   "metadata": {},
   "source": [
    "Here is the diffusion equation:"
   ]
  },
  {
   "cell_type": "markdown",
   "id": "5d715dab-2ef0-44dc-8936-7b41aba5c1f1",
   "metadata": {},
   "source": [
    "$$ \\frac{\\partial C}{\\partial t} = D\\frac{\\partial^2 C}{\\partial x^2} $$"
   ]
  },
  {
   "cell_type": "markdown",
   "id": "5c01b85c-6ae6-4062-9c6c-d93fff080f2a",
   "metadata": {},
   "source": [
    "Here is the discretized version of the diffusion equation we will solve with our model:"
   ]
  },
  {
   "cell_type": "markdown",
   "id": "dfb7f520-c331-4a2b-aa5d-5d13e3629d33",
   "metadata": {},
   "source": [
    "$$ C^{t+1}_x = C^t_x + {D \\Delta t \\over \\Delta x^2} (C^t_{x+1} - 2C^t_x + C^t_{x-1}) $$"
   ]
  },
  {
   "cell_type": "markdown",
   "id": "e593c205-9bf7-4dbb-9087-f4952abd329c",
   "metadata": {},
   "source": [
    "This is the FTCS scheme as described by Slingerland and Kump (2011)"
   ]
  },
  {
   "cell_type": "code",
   "execution_count": null,
   "id": "b1c69827-e713-4c0c-8847-32d2f6fd4b9c",
   "metadata": {},
   "outputs": [],
   "source": [
    "import numpy as np\n",
    "import matplotlib.pyplot as plt"
   ]
  },
  {
   "cell_type": "markdown",
   "id": "5daef519-8c47-4572-8bec-b07aa15f7665",
   "metadata": {},
   "source": [
    "start by setting two fixed model parameters, the diffusivity and the size of the model domain"
   ]
  },
  {
   "cell_type": "code",
   "execution_count": null,
   "id": "752ebbb1-e65f-4283-84f0-5add7fa19bad",
   "metadata": {},
   "outputs": [],
   "source": [
    "D=100\n",
    "Lx=300"
   ]
  },
  {
   "cell_type": "markdown",
   "id": "e15c761d-f591-4b39-8e4f-79aa149d8422",
   "metadata": {},
   "source": [
    "Next, set up the model grid using a NumPy array"
   ]
  },
  {
   "cell_type": "code",
   "execution_count": null,
   "id": "a733ac5f-48b3-4599-85f5-babbd1f6b783",
   "metadata": {},
   "outputs": [],
   "source": [
    "dx=0.5\n",
    "x=np.arange(start=0, stop=Lx, step=dx)\n",
    "nx=len(x)"
   ]
  },
  {
   "cell_type": "code",
   "execution_count": null,
   "id": "8ac3308f-c1cb-43aa-970e-90005d464849",
   "metadata": {},
   "outputs": [],
   "source": [
    "x[-7:-3]"
   ]
  },
  {
   "cell_type": "markdown",
   "id": "5e15916e-f28e-4344-8668-a3b6dcf33082",
   "metadata": {},
   "source": [
    "Set the initial conditions for the model. The cake C is a step function with a high value on the left, a low value on the right, and a step at the center of the domain."
   ]
  },
  {
   "cell_type": "code",
   "execution_count": null,
   "id": "5b140aff-09b4-43ae-9882-185044da361c",
   "metadata": {},
   "outputs": [],
   "source": [
    "C=np.zeros_like(x)\n",
    "C_left=500\n",
    "C_right=0\n",
    "C[x<=Lx/2]=C_left\n",
    "C[x>Lx/2]=C_right"
   ]
  },
  {
   "cell_type": "markdown",
   "id": "fe847d26-dd43-437a-8d80-64bd58c666f0",
   "metadata": {},
   "source": [
    "Plot the initial profile"
   ]
  },
  {
   "cell_type": "code",
   "execution_count": null,
   "id": "00de55e7-06c6-4b2f-a0da-73870d41cc08",
   "metadata": {},
   "outputs": [],
   "source": [
    "plt.figure()\n",
    "plt.plot(x,C,\"r\")\n",
    "plt.xlabel(\"x\")\n",
    "plt.ylabel(\"C\")\n",
    "plt.title(\"Initial profile\")"
   ]
  },
  {
   "cell_type": "markdown",
   "id": "1f8c3cd3-46df-4eaf-abd6-598ee911b24e",
   "metadata": {},
   "source": [
    "Set the number of time steps of the model. Calculate a stable time step using a stability criterion."
   ]
  },
  {
   "cell_type": "code",
   "execution_count": null,
   "id": "badb3768-ec83-4d6c-b33a-c2bb0ef42ec3",
   "metadata": {},
   "outputs": [],
   "source": [
    "nt=5000\n",
    "dt=0.5*dx**2/D"
   ]
  },
  {
   "cell_type": "code",
   "execution_count": null,
   "id": "e8f804e4-1d78-4b86-a7d1-d49eda61dd99",
   "metadata": {},
   "outputs": [],
   "source": [
    "dt"
   ]
  },
  {
   "cell_type": "markdown",
   "id": "9104c423-73e4-479f-8a77-b02dd074f733",
   "metadata": {},
   "source": [
    "Loop over the time steps of the model"
   ]
  },
  {
   "cell_type": "code",
   "execution_count": null,
   "id": "fba38bac-0a9e-45f7-b1c9-4a4b0c438415",
   "metadata": {},
   "outputs": [],
   "source": [
    "for t in range(0, nt):\n",
    "\tC[1:-1] += D * dt / dx ** 2 * (C[:-2] - 2*C[1:-1] + C[2:])"
   ]
  },
  {
   "cell_type": "markdown",
   "id": "d38c953a-a92b-4127-879f-d2b88d8752ec",
   "metadata": {},
   "source": [
    "plot the result"
   ]
  },
  {
   "cell_type": "code",
   "execution_count": null,
   "id": "1fedb3da-9271-4dbb-8ea4-977b08e203c7",
   "metadata": {},
   "outputs": [],
   "source": [
    "plt.figure()\n",
    "plt.plot(x,C,\"r\")\n",
    "plt.xlabel(\"x\")\n",
    "plt.ylabel(\"C\")\n",
    "plt.title(\"Initial profile\")"
   ]
  }
 ],
 "metadata": {
  "kernelspec": {
   "display_name": "Ivy",
   "language": "python",
   "name": "ivy"
  },
  "language_info": {
   "codemirror_mode": {
    "name": "ipython",
    "version": 3
   },
   "file_extension": ".py",
   "mimetype": "text/x-python",
   "name": "python",
   "nbconvert_exporter": "python",
   "pygments_lexer": "ipython3",
   "version": "3.13.3"
  }
 },
 "nbformat": 4,
 "nbformat_minor": 5
}
